{
 "cells": [
  {
   "cell_type": "code",
   "execution_count": 1,
   "outputs": [],
   "source": [
    "import numpy as np\n",
    "import pandas as pd\n",
    "\n",
    "import exp3aux.exp3aux as ex3aux\n",
    "import matplotlib.pyplot as plt\n",
    "import seaborn as sns\n",
    "import networkx as nx\n",
    "import pandas as pd\n",
    "from pgmpy.estimators import K2Score, BicScore\n",
    "\n",
    "plt.rcParams.update({'font.size': 14})\n",
    "\n",
    "imagespath = 'C:/Users/Acer/PycharmProjects/BAMTclone/BAMT/experiments2/images2'"
   ],
   "metadata": {
    "collapsed": false,
    "ExecuteTime": {
     "end_time": "2023-05-28T15:18:43.082068100Z",
     "start_time": "2023-05-28T15:18:39.172027300Z"
    }
   }
  },
  {
   "cell_type": "code",
   "execution_count": 2,
   "outputs": [],
   "source": [
    "cols = ['mean_right_dir', 'min_right_dir', 'max_right_dir',\n",
    "                              'mean_wrong_dir', 'min_wrong_dir', 'max_wrong_dir',\n",
    "                              'mean_asc', 'min_asc', 'max_asc',\n",
    "                              'mean_desc', 'min_desc', 'max_desc',\n",
    "                              'mean_wrong_edges', 'min_wrong_edges', 'max_wrong_edges',\n",
    "                              'mean_indegree', 'min_indegree', 'max_indegree'] +\\\n",
    "                              [f\"indegree for actual {k} indegree\" for k in range(11)]"
   ],
   "metadata": {
    "collapsed": false,
    "ExecuteTime": {
     "end_time": "2023-05-28T15:18:43.097166600Z",
     "start_time": "2023-05-28T15:18:43.085070300Z"
    }
   }
  },
  {
   "cell_type": "code",
   "execution_count": null,
   "outputs": [],
   "source": [
    "table = list()\n",
    "for i in range(4, 16):\n",
    "    print(f\"{i} nodes\")\n",
    "    print(\"\")\n",
    "    table.append(ex3aux.simulation(i, scoring=(\"K2\", K2Score)))"
   ],
   "metadata": {
    "collapsed": false
   }
  },
  {
   "cell_type": "code",
   "execution_count": 7,
   "outputs": [
    {
     "data": {
      "text/plain": "    mean_right_dir  min_right_dir  max_right_dir  mean_wrong_dir  \\\n0         0.509722       0.222222       1.000000        0.400000   \n1         0.569444       0.250000       0.833333        0.298889   \n2         0.536667       0.250000       0.944444        0.339841   \n3         0.588214       0.375000       0.722222        0.286230   \n4         0.560430       0.266667       0.866667        0.311620   \n5         0.450705       0.066667       0.761905        0.295176   \n6         0.477603       0.222222       0.761905        0.312814   \n7         0.470530       0.151515       0.708333        0.294526   \n8         0.443245       0.121212       0.666667        0.317228   \n9         0.460648       0.303030       0.733333        0.329580   \n10        0.455902       0.230769       0.717949        0.325588   \n11        0.464928       0.277778       0.717949        0.315040   \n\n    min_wrong_dir  max_wrong_dir  mean_asc   min_asc  max_asc  mean_desc  ...  \\\n0        0.000000       0.666667  0.974359  0.833333      1.0   0.837963  ...   \n1        0.083333       0.666667  0.885621  0.000000      1.0   0.850556  ...   \n2        0.055556       0.666667  0.853472  0.333333      1.0   0.891520  ...   \n3        0.041667       0.476190  0.879630  0.333333      1.0   0.871667  ...   \n4        0.074074       0.555556  0.847953  0.000000      1.0   0.885833  ...   \n5        0.166667       0.533333  0.780000  0.444444      1.0   0.721885  ...   \n6        0.151515       0.454545  0.768056  0.416667      1.0   0.802083  ...   \n7        0.060606       0.461538  0.753889  0.111111      1.0   0.787275  ...   \n8        0.153846       0.545455  0.746270  0.400000      1.0   0.784239  ...   \n9        0.194444       0.481481  0.785675  0.555556      1.0   0.794494  ...   \n10       0.215686       0.487179  0.792388  0.611111      1.0   0.771912  ...   \n11       0.148148       0.476190  0.755060  0.466667      1.0   0.795550  ...   \n\n    indegree for actual 1 indegree  indegree for actual 2 indegree  \\\n0                         1.371795                        2.854167   \n1                         1.690476                        3.513889   \n2                         1.538462                        3.146465   \n3                         1.463542                        3.384615   \n4                         1.511905                        3.050926   \n5                         2.326901                        3.929630   \n6                         2.579532                        3.647661   \n7                         2.238889                        3.458333   \n8                         1.828219                        3.434259   \n9                         2.253889                        3.476608   \n10                        2.147500                        3.570278   \n11                        2.077339                        3.741944   \n\n    indegree for actual 3 indegree  indegree for actual 4 indegree  \\\n0                         4.166667                            -inf   \n1                         4.000000                        3.833333   \n2                         4.142857                        3.333333   \n3                         4.238095                        4.750000   \n4                         4.722222                        5.000000   \n5                         3.916667                        2.933333   \n6                         3.576923                        2.000000   \n7                         4.397436                        3.708333   \n8                         4.046296                        3.333333   \n9                         4.273810                        5.000000   \n10                        4.064103                        5.388889   \n11                        4.238095                        5.104167   \n\n    indegree for actual 5 indegree  indegree for actual 6 indegree  \\\n0                             -inf                            -inf   \n1                             -inf                            -inf   \n2                         4.666667                            -inf   \n3                             -inf                            -inf   \n4                         5.000000                            -inf   \n5                             -inf                            -inf   \n6                         6.000000                            -inf   \n7                             -inf                            -inf   \n8                         2.000000                             5.0   \n9                         4.000000                            -inf   \n10                        4.333333                            -inf   \n11                        3.000000                            -inf   \n\n    indegree for actual 7 indegree  indegree for actual 8 indegree  \\\n0                             -inf                            -inf   \n1                             -inf                            -inf   \n2                             -inf                            -inf   \n3                             -inf                            -inf   \n4                             -inf                            -inf   \n5                             -inf                            -inf   \n6                             -inf                            -inf   \n7                             -inf                            -inf   \n8                             -inf                            -inf   \n9                             -inf                            -inf   \n10                            -inf                            -inf   \n11                            -inf                            -inf   \n\n    indegree for actual 9 indegree  indegree for actual 10 indegree  \n0                             -inf                             -inf  \n1                             -inf                             -inf  \n2                             -inf                             -inf  \n3                             -inf                             -inf  \n4                             -inf                             -inf  \n5                             -inf                             -inf  \n6                             -inf                             -inf  \n7                             -inf                             -inf  \n8                             -inf                             -inf  \n9                             -inf                             -inf  \n10                            -inf                             -inf  \n11                            -inf                             -inf  \n\n[12 rows x 29 columns]",
      "text/html": "<div>\n<style scoped>\n    .dataframe tbody tr th:only-of-type {\n        vertical-align: middle;\n    }\n\n    .dataframe tbody tr th {\n        vertical-align: top;\n    }\n\n    .dataframe thead th {\n        text-align: right;\n    }\n</style>\n<table border=\"1\" class=\"dataframe\">\n  <thead>\n    <tr style=\"text-align: right;\">\n      <th></th>\n      <th>mean_right_dir</th>\n      <th>min_right_dir</th>\n      <th>max_right_dir</th>\n      <th>mean_wrong_dir</th>\n      <th>min_wrong_dir</th>\n      <th>max_wrong_dir</th>\n      <th>mean_asc</th>\n      <th>min_asc</th>\n      <th>max_asc</th>\n      <th>mean_desc</th>\n      <th>...</th>\n      <th>indegree for actual 1 indegree</th>\n      <th>indegree for actual 2 indegree</th>\n      <th>indegree for actual 3 indegree</th>\n      <th>indegree for actual 4 indegree</th>\n      <th>indegree for actual 5 indegree</th>\n      <th>indegree for actual 6 indegree</th>\n      <th>indegree for actual 7 indegree</th>\n      <th>indegree for actual 8 indegree</th>\n      <th>indegree for actual 9 indegree</th>\n      <th>indegree for actual 10 indegree</th>\n    </tr>\n  </thead>\n  <tbody>\n    <tr>\n      <th>0</th>\n      <td>0.509722</td>\n      <td>0.222222</td>\n      <td>1.000000</td>\n      <td>0.400000</td>\n      <td>0.000000</td>\n      <td>0.666667</td>\n      <td>0.974359</td>\n      <td>0.833333</td>\n      <td>1.0</td>\n      <td>0.837963</td>\n      <td>...</td>\n      <td>1.371795</td>\n      <td>2.854167</td>\n      <td>4.166667</td>\n      <td>-inf</td>\n      <td>-inf</td>\n      <td>-inf</td>\n      <td>-inf</td>\n      <td>-inf</td>\n      <td>-inf</td>\n      <td>-inf</td>\n    </tr>\n    <tr>\n      <th>1</th>\n      <td>0.569444</td>\n      <td>0.250000</td>\n      <td>0.833333</td>\n      <td>0.298889</td>\n      <td>0.083333</td>\n      <td>0.666667</td>\n      <td>0.885621</td>\n      <td>0.000000</td>\n      <td>1.0</td>\n      <td>0.850556</td>\n      <td>...</td>\n      <td>1.690476</td>\n      <td>3.513889</td>\n      <td>4.000000</td>\n      <td>3.833333</td>\n      <td>-inf</td>\n      <td>-inf</td>\n      <td>-inf</td>\n      <td>-inf</td>\n      <td>-inf</td>\n      <td>-inf</td>\n    </tr>\n    <tr>\n      <th>2</th>\n      <td>0.536667</td>\n      <td>0.250000</td>\n      <td>0.944444</td>\n      <td>0.339841</td>\n      <td>0.055556</td>\n      <td>0.666667</td>\n      <td>0.853472</td>\n      <td>0.333333</td>\n      <td>1.0</td>\n      <td>0.891520</td>\n      <td>...</td>\n      <td>1.538462</td>\n      <td>3.146465</td>\n      <td>4.142857</td>\n      <td>3.333333</td>\n      <td>4.666667</td>\n      <td>-inf</td>\n      <td>-inf</td>\n      <td>-inf</td>\n      <td>-inf</td>\n      <td>-inf</td>\n    </tr>\n    <tr>\n      <th>3</th>\n      <td>0.588214</td>\n      <td>0.375000</td>\n      <td>0.722222</td>\n      <td>0.286230</td>\n      <td>0.041667</td>\n      <td>0.476190</td>\n      <td>0.879630</td>\n      <td>0.333333</td>\n      <td>1.0</td>\n      <td>0.871667</td>\n      <td>...</td>\n      <td>1.463542</td>\n      <td>3.384615</td>\n      <td>4.238095</td>\n      <td>4.750000</td>\n      <td>-inf</td>\n      <td>-inf</td>\n      <td>-inf</td>\n      <td>-inf</td>\n      <td>-inf</td>\n      <td>-inf</td>\n    </tr>\n    <tr>\n      <th>4</th>\n      <td>0.560430</td>\n      <td>0.266667</td>\n      <td>0.866667</td>\n      <td>0.311620</td>\n      <td>0.074074</td>\n      <td>0.555556</td>\n      <td>0.847953</td>\n      <td>0.000000</td>\n      <td>1.0</td>\n      <td>0.885833</td>\n      <td>...</td>\n      <td>1.511905</td>\n      <td>3.050926</td>\n      <td>4.722222</td>\n      <td>5.000000</td>\n      <td>5.000000</td>\n      <td>-inf</td>\n      <td>-inf</td>\n      <td>-inf</td>\n      <td>-inf</td>\n      <td>-inf</td>\n    </tr>\n    <tr>\n      <th>5</th>\n      <td>0.450705</td>\n      <td>0.066667</td>\n      <td>0.761905</td>\n      <td>0.295176</td>\n      <td>0.166667</td>\n      <td>0.533333</td>\n      <td>0.780000</td>\n      <td>0.444444</td>\n      <td>1.0</td>\n      <td>0.721885</td>\n      <td>...</td>\n      <td>2.326901</td>\n      <td>3.929630</td>\n      <td>3.916667</td>\n      <td>2.933333</td>\n      <td>-inf</td>\n      <td>-inf</td>\n      <td>-inf</td>\n      <td>-inf</td>\n      <td>-inf</td>\n      <td>-inf</td>\n    </tr>\n    <tr>\n      <th>6</th>\n      <td>0.477603</td>\n      <td>0.222222</td>\n      <td>0.761905</td>\n      <td>0.312814</td>\n      <td>0.151515</td>\n      <td>0.454545</td>\n      <td>0.768056</td>\n      <td>0.416667</td>\n      <td>1.0</td>\n      <td>0.802083</td>\n      <td>...</td>\n      <td>2.579532</td>\n      <td>3.647661</td>\n      <td>3.576923</td>\n      <td>2.000000</td>\n      <td>6.000000</td>\n      <td>-inf</td>\n      <td>-inf</td>\n      <td>-inf</td>\n      <td>-inf</td>\n      <td>-inf</td>\n    </tr>\n    <tr>\n      <th>7</th>\n      <td>0.470530</td>\n      <td>0.151515</td>\n      <td>0.708333</td>\n      <td>0.294526</td>\n      <td>0.060606</td>\n      <td>0.461538</td>\n      <td>0.753889</td>\n      <td>0.111111</td>\n      <td>1.0</td>\n      <td>0.787275</td>\n      <td>...</td>\n      <td>2.238889</td>\n      <td>3.458333</td>\n      <td>4.397436</td>\n      <td>3.708333</td>\n      <td>-inf</td>\n      <td>-inf</td>\n      <td>-inf</td>\n      <td>-inf</td>\n      <td>-inf</td>\n      <td>-inf</td>\n    </tr>\n    <tr>\n      <th>8</th>\n      <td>0.443245</td>\n      <td>0.121212</td>\n      <td>0.666667</td>\n      <td>0.317228</td>\n      <td>0.153846</td>\n      <td>0.545455</td>\n      <td>0.746270</td>\n      <td>0.400000</td>\n      <td>1.0</td>\n      <td>0.784239</td>\n      <td>...</td>\n      <td>1.828219</td>\n      <td>3.434259</td>\n      <td>4.046296</td>\n      <td>3.333333</td>\n      <td>2.000000</td>\n      <td>5.0</td>\n      <td>-inf</td>\n      <td>-inf</td>\n      <td>-inf</td>\n      <td>-inf</td>\n    </tr>\n    <tr>\n      <th>9</th>\n      <td>0.460648</td>\n      <td>0.303030</td>\n      <td>0.733333</td>\n      <td>0.329580</td>\n      <td>0.194444</td>\n      <td>0.481481</td>\n      <td>0.785675</td>\n      <td>0.555556</td>\n      <td>1.0</td>\n      <td>0.794494</td>\n      <td>...</td>\n      <td>2.253889</td>\n      <td>3.476608</td>\n      <td>4.273810</td>\n      <td>5.000000</td>\n      <td>4.000000</td>\n      <td>-inf</td>\n      <td>-inf</td>\n      <td>-inf</td>\n      <td>-inf</td>\n      <td>-inf</td>\n    </tr>\n    <tr>\n      <th>10</th>\n      <td>0.455902</td>\n      <td>0.230769</td>\n      <td>0.717949</td>\n      <td>0.325588</td>\n      <td>0.215686</td>\n      <td>0.487179</td>\n      <td>0.792388</td>\n      <td>0.611111</td>\n      <td>1.0</td>\n      <td>0.771912</td>\n      <td>...</td>\n      <td>2.147500</td>\n      <td>3.570278</td>\n      <td>4.064103</td>\n      <td>5.388889</td>\n      <td>4.333333</td>\n      <td>-inf</td>\n      <td>-inf</td>\n      <td>-inf</td>\n      <td>-inf</td>\n      <td>-inf</td>\n    </tr>\n    <tr>\n      <th>11</th>\n      <td>0.464928</td>\n      <td>0.277778</td>\n      <td>0.717949</td>\n      <td>0.315040</td>\n      <td>0.148148</td>\n      <td>0.476190</td>\n      <td>0.755060</td>\n      <td>0.466667</td>\n      <td>1.0</td>\n      <td>0.795550</td>\n      <td>...</td>\n      <td>2.077339</td>\n      <td>3.741944</td>\n      <td>4.238095</td>\n      <td>5.104167</td>\n      <td>3.000000</td>\n      <td>-inf</td>\n      <td>-inf</td>\n      <td>-inf</td>\n      <td>-inf</td>\n      <td>-inf</td>\n    </tr>\n  </tbody>\n</table>\n<p>12 rows × 29 columns</p>\n</div>"
     },
     "execution_count": 7,
     "metadata": {},
     "output_type": "execute_result"
    }
   ],
   "source": [
    "pd.DataFrame([table[k] for k in range(12)], columns=cols)"
   ],
   "metadata": {
    "collapsed": false,
    "ExecuteTime": {
     "end_time": "2023-05-28T13:55:29.585347500Z",
     "start_time": "2023-05-28T13:55:29.537893Z"
    }
   }
  },
  {
   "cell_type": "code",
   "execution_count": null,
   "outputs": [],
   "source": [
    "table1 = list()\n",
    "for i in range(4, 16):\n",
    "    print(f\"{i} nodes\")\n",
    "    print(\"\")\n",
    "    table1.append(ex3aux.simulation(i, scoring=(\"K2\", K2Score), transitive_mode=True))"
   ],
   "metadata": {
    "collapsed": false
   }
  },
  {
   "cell_type": "code",
   "execution_count": 9,
   "outputs": [
    {
     "data": {
      "text/plain": "    mean_right_dir  min_right_dir  max_right_dir  mean_wrong_dir  \\\n0         0.509722       0.222222       1.000000        0.400000   \n1         0.569444       0.250000       0.833333        0.298889   \n2         0.536667       0.250000       0.944444        0.339841   \n3         0.588214       0.375000       0.722222        0.286230   \n4         0.560430       0.266667       0.866667        0.311620   \n5         0.374425       0.095238       0.851852        0.287332   \n6         0.396698       0.192982       0.703704        0.289579   \n7         0.389387       0.166667       0.555556        0.285316   \n8         0.368510       0.087719       0.641026        0.269561   \n9         0.373830       0.185185       0.622222        0.300789   \n10        0.355167       0.185185       0.627451        0.292936   \n11        0.365273       0.150000       0.616667        0.267824   \n\n    min_wrong_dir  max_wrong_dir  mean_asc   min_asc   max_asc  mean_desc  \\\n0        0.000000       0.666667  0.974359  0.833333  1.000000   0.837963   \n1        0.083333       0.666667  0.885621  0.000000  1.000000   0.850556   \n2        0.055556       0.666667  0.853472  0.333333  1.000000   0.891520   \n3        0.041667       0.476190  0.879630  0.333333  1.000000   0.871667   \n4        0.074074       0.555556  0.847953  0.000000  1.000000   0.885833   \n5        0.111111       0.452381  0.671521  0.333333  1.000000   0.655334   \n6        0.133333       0.444444  0.714451  0.481481  1.000000   0.671703   \n7        0.116667       0.404762  0.685767  0.407407  0.916667   0.669772   \n8        0.133333       0.438596  0.593602  0.285714  0.944444   0.674029   \n9        0.126984       0.500000  0.669974  0.518519  0.952381   0.693323   \n10       0.149425       0.476190  0.652281  0.291667  0.888889   0.638677   \n11       0.092593       0.403509  0.609730  0.291667  0.851852   0.646778   \n\n    ...  indegree for actual 1 indegree  indegree for actual 2 indegree  \\\n0   ...                        1.371795                        2.854167   \n1   ...                        1.690476                        3.513889   \n2   ...                        1.538462                        3.146465   \n3   ...                        1.463542                        3.384615   \n4   ...                        1.511905                        3.050926   \n5   ...                        2.613158                        4.145370   \n6   ...                        2.746784                        3.504386   \n7   ...                        2.229444                        3.648148   \n8   ...                        2.195679                        3.651235   \n9   ...                        2.442500                        3.564327   \n10  ...                        2.435278                        3.717500   \n11  ...                        2.309357                        3.888452   \n\n    indegree for actual 3 indegree  indegree for actual 4 indegree  \\\n0                         4.166667                            -inf   \n1                         4.000000                        3.833333   \n2                         4.142857                        3.333333   \n3                         4.238095                        4.750000   \n4                         4.722222                        5.000000   \n5                         3.600000                        3.533333   \n6                         4.102564                        3.333333   \n7                         4.414530                        4.166667   \n8                         4.379630                        3.700000   \n9                         4.285714                        3.444444   \n10                        3.782051                        4.500000   \n11                        3.924603                        4.291667   \n\n    indegree for actual 5 indegree  indegree for actual 6 indegree  \\\n0                             -inf                            -inf   \n1                             -inf                            -inf   \n2                         4.666667                            -inf   \n3                             -inf                            -inf   \n4                         5.000000                            -inf   \n5                             -inf                            -inf   \n6                         5.000000                            -inf   \n7                             -inf                            -inf   \n8                         2.333333                             5.0   \n9                         5.333333                            -inf   \n10                        5.666667                            -inf   \n11                        2.666667                            -inf   \n\n    indegree for actual 7 indegree  indegree for actual 8 indegree  \\\n0                             -inf                            -inf   \n1                             -inf                            -inf   \n2                             -inf                            -inf   \n3                             -inf                            -inf   \n4                             -inf                            -inf   \n5                             -inf                            -inf   \n6                             -inf                            -inf   \n7                             -inf                            -inf   \n8                             -inf                            -inf   \n9                             -inf                            -inf   \n10                            -inf                            -inf   \n11                            -inf                            -inf   \n\n    indegree for actual 9 indegree  indegree for actual 10 indegree  \n0                             -inf                             -inf  \n1                             -inf                             -inf  \n2                             -inf                             -inf  \n3                             -inf                             -inf  \n4                             -inf                             -inf  \n5                             -inf                             -inf  \n6                             -inf                             -inf  \n7                             -inf                             -inf  \n8                             -inf                             -inf  \n9                             -inf                             -inf  \n10                            -inf                             -inf  \n11                            -inf                             -inf  \n\n[12 rows x 29 columns]",
      "text/html": "<div>\n<style scoped>\n    .dataframe tbody tr th:only-of-type {\n        vertical-align: middle;\n    }\n\n    .dataframe tbody tr th {\n        vertical-align: top;\n    }\n\n    .dataframe thead th {\n        text-align: right;\n    }\n</style>\n<table border=\"1\" class=\"dataframe\">\n  <thead>\n    <tr style=\"text-align: right;\">\n      <th></th>\n      <th>mean_right_dir</th>\n      <th>min_right_dir</th>\n      <th>max_right_dir</th>\n      <th>mean_wrong_dir</th>\n      <th>min_wrong_dir</th>\n      <th>max_wrong_dir</th>\n      <th>mean_asc</th>\n      <th>min_asc</th>\n      <th>max_asc</th>\n      <th>mean_desc</th>\n      <th>...</th>\n      <th>indegree for actual 1 indegree</th>\n      <th>indegree for actual 2 indegree</th>\n      <th>indegree for actual 3 indegree</th>\n      <th>indegree for actual 4 indegree</th>\n      <th>indegree for actual 5 indegree</th>\n      <th>indegree for actual 6 indegree</th>\n      <th>indegree for actual 7 indegree</th>\n      <th>indegree for actual 8 indegree</th>\n      <th>indegree for actual 9 indegree</th>\n      <th>indegree for actual 10 indegree</th>\n    </tr>\n  </thead>\n  <tbody>\n    <tr>\n      <th>0</th>\n      <td>0.509722</td>\n      <td>0.222222</td>\n      <td>1.000000</td>\n      <td>0.400000</td>\n      <td>0.000000</td>\n      <td>0.666667</td>\n      <td>0.974359</td>\n      <td>0.833333</td>\n      <td>1.000000</td>\n      <td>0.837963</td>\n      <td>...</td>\n      <td>1.371795</td>\n      <td>2.854167</td>\n      <td>4.166667</td>\n      <td>-inf</td>\n      <td>-inf</td>\n      <td>-inf</td>\n      <td>-inf</td>\n      <td>-inf</td>\n      <td>-inf</td>\n      <td>-inf</td>\n    </tr>\n    <tr>\n      <th>1</th>\n      <td>0.569444</td>\n      <td>0.250000</td>\n      <td>0.833333</td>\n      <td>0.298889</td>\n      <td>0.083333</td>\n      <td>0.666667</td>\n      <td>0.885621</td>\n      <td>0.000000</td>\n      <td>1.000000</td>\n      <td>0.850556</td>\n      <td>...</td>\n      <td>1.690476</td>\n      <td>3.513889</td>\n      <td>4.000000</td>\n      <td>3.833333</td>\n      <td>-inf</td>\n      <td>-inf</td>\n      <td>-inf</td>\n      <td>-inf</td>\n      <td>-inf</td>\n      <td>-inf</td>\n    </tr>\n    <tr>\n      <th>2</th>\n      <td>0.536667</td>\n      <td>0.250000</td>\n      <td>0.944444</td>\n      <td>0.339841</td>\n      <td>0.055556</td>\n      <td>0.666667</td>\n      <td>0.853472</td>\n      <td>0.333333</td>\n      <td>1.000000</td>\n      <td>0.891520</td>\n      <td>...</td>\n      <td>1.538462</td>\n      <td>3.146465</td>\n      <td>4.142857</td>\n      <td>3.333333</td>\n      <td>4.666667</td>\n      <td>-inf</td>\n      <td>-inf</td>\n      <td>-inf</td>\n      <td>-inf</td>\n      <td>-inf</td>\n    </tr>\n    <tr>\n      <th>3</th>\n      <td>0.588214</td>\n      <td>0.375000</td>\n      <td>0.722222</td>\n      <td>0.286230</td>\n      <td>0.041667</td>\n      <td>0.476190</td>\n      <td>0.879630</td>\n      <td>0.333333</td>\n      <td>1.000000</td>\n      <td>0.871667</td>\n      <td>...</td>\n      <td>1.463542</td>\n      <td>3.384615</td>\n      <td>4.238095</td>\n      <td>4.750000</td>\n      <td>-inf</td>\n      <td>-inf</td>\n      <td>-inf</td>\n      <td>-inf</td>\n      <td>-inf</td>\n      <td>-inf</td>\n    </tr>\n    <tr>\n      <th>4</th>\n      <td>0.560430</td>\n      <td>0.266667</td>\n      <td>0.866667</td>\n      <td>0.311620</td>\n      <td>0.074074</td>\n      <td>0.555556</td>\n      <td>0.847953</td>\n      <td>0.000000</td>\n      <td>1.000000</td>\n      <td>0.885833</td>\n      <td>...</td>\n      <td>1.511905</td>\n      <td>3.050926</td>\n      <td>4.722222</td>\n      <td>5.000000</td>\n      <td>5.000000</td>\n      <td>-inf</td>\n      <td>-inf</td>\n      <td>-inf</td>\n      <td>-inf</td>\n      <td>-inf</td>\n    </tr>\n    <tr>\n      <th>5</th>\n      <td>0.374425</td>\n      <td>0.095238</td>\n      <td>0.851852</td>\n      <td>0.287332</td>\n      <td>0.111111</td>\n      <td>0.452381</td>\n      <td>0.671521</td>\n      <td>0.333333</td>\n      <td>1.000000</td>\n      <td>0.655334</td>\n      <td>...</td>\n      <td>2.613158</td>\n      <td>4.145370</td>\n      <td>3.600000</td>\n      <td>3.533333</td>\n      <td>-inf</td>\n      <td>-inf</td>\n      <td>-inf</td>\n      <td>-inf</td>\n      <td>-inf</td>\n      <td>-inf</td>\n    </tr>\n    <tr>\n      <th>6</th>\n      <td>0.396698</td>\n      <td>0.192982</td>\n      <td>0.703704</td>\n      <td>0.289579</td>\n      <td>0.133333</td>\n      <td>0.444444</td>\n      <td>0.714451</td>\n      <td>0.481481</td>\n      <td>1.000000</td>\n      <td>0.671703</td>\n      <td>...</td>\n      <td>2.746784</td>\n      <td>3.504386</td>\n      <td>4.102564</td>\n      <td>3.333333</td>\n      <td>5.000000</td>\n      <td>-inf</td>\n      <td>-inf</td>\n      <td>-inf</td>\n      <td>-inf</td>\n      <td>-inf</td>\n    </tr>\n    <tr>\n      <th>7</th>\n      <td>0.389387</td>\n      <td>0.166667</td>\n      <td>0.555556</td>\n      <td>0.285316</td>\n      <td>0.116667</td>\n      <td>0.404762</td>\n      <td>0.685767</td>\n      <td>0.407407</td>\n      <td>0.916667</td>\n      <td>0.669772</td>\n      <td>...</td>\n      <td>2.229444</td>\n      <td>3.648148</td>\n      <td>4.414530</td>\n      <td>4.166667</td>\n      <td>-inf</td>\n      <td>-inf</td>\n      <td>-inf</td>\n      <td>-inf</td>\n      <td>-inf</td>\n      <td>-inf</td>\n    </tr>\n    <tr>\n      <th>8</th>\n      <td>0.368510</td>\n      <td>0.087719</td>\n      <td>0.641026</td>\n      <td>0.269561</td>\n      <td>0.133333</td>\n      <td>0.438596</td>\n      <td>0.593602</td>\n      <td>0.285714</td>\n      <td>0.944444</td>\n      <td>0.674029</td>\n      <td>...</td>\n      <td>2.195679</td>\n      <td>3.651235</td>\n      <td>4.379630</td>\n      <td>3.700000</td>\n      <td>2.333333</td>\n      <td>5.0</td>\n      <td>-inf</td>\n      <td>-inf</td>\n      <td>-inf</td>\n      <td>-inf</td>\n    </tr>\n    <tr>\n      <th>9</th>\n      <td>0.373830</td>\n      <td>0.185185</td>\n      <td>0.622222</td>\n      <td>0.300789</td>\n      <td>0.126984</td>\n      <td>0.500000</td>\n      <td>0.669974</td>\n      <td>0.518519</td>\n      <td>0.952381</td>\n      <td>0.693323</td>\n      <td>...</td>\n      <td>2.442500</td>\n      <td>3.564327</td>\n      <td>4.285714</td>\n      <td>3.444444</td>\n      <td>5.333333</td>\n      <td>-inf</td>\n      <td>-inf</td>\n      <td>-inf</td>\n      <td>-inf</td>\n      <td>-inf</td>\n    </tr>\n    <tr>\n      <th>10</th>\n      <td>0.355167</td>\n      <td>0.185185</td>\n      <td>0.627451</td>\n      <td>0.292936</td>\n      <td>0.149425</td>\n      <td>0.476190</td>\n      <td>0.652281</td>\n      <td>0.291667</td>\n      <td>0.888889</td>\n      <td>0.638677</td>\n      <td>...</td>\n      <td>2.435278</td>\n      <td>3.717500</td>\n      <td>3.782051</td>\n      <td>4.500000</td>\n      <td>5.666667</td>\n      <td>-inf</td>\n      <td>-inf</td>\n      <td>-inf</td>\n      <td>-inf</td>\n      <td>-inf</td>\n    </tr>\n    <tr>\n      <th>11</th>\n      <td>0.365273</td>\n      <td>0.150000</td>\n      <td>0.616667</td>\n      <td>0.267824</td>\n      <td>0.092593</td>\n      <td>0.403509</td>\n      <td>0.609730</td>\n      <td>0.291667</td>\n      <td>0.851852</td>\n      <td>0.646778</td>\n      <td>...</td>\n      <td>2.309357</td>\n      <td>3.888452</td>\n      <td>3.924603</td>\n      <td>4.291667</td>\n      <td>2.666667</td>\n      <td>-inf</td>\n      <td>-inf</td>\n      <td>-inf</td>\n      <td>-inf</td>\n      <td>-inf</td>\n    </tr>\n  </tbody>\n</table>\n<p>12 rows × 29 columns</p>\n</div>"
     },
     "execution_count": 9,
     "metadata": {},
     "output_type": "execute_result"
    }
   ],
   "source": [
    "pd.DataFrame([table1[k] for k in range(12)], columns=cols)"
   ],
   "metadata": {
    "collapsed": false,
    "ExecuteTime": {
     "end_time": "2023-05-28T15:02:41.448361800Z",
     "start_time": "2023-05-28T15:02:41.402359Z"
    }
   }
  },
  {
   "cell_type": "code",
   "execution_count": null,
   "outputs": [],
   "source": [
    "table2 = list()\n",
    "for i in range(4, 16):\n",
    "    print(f\"{i} nodes\")\n",
    "    print(\"\")\n",
    "    table2.append(ex3aux.simulation(i, scoring=(\"K2\", BicScore)))"
   ],
   "metadata": {
    "collapsed": false
   }
  },
  {
   "cell_type": "code",
   "execution_count": 4,
   "outputs": [
    {
     "data": {
      "text/plain": "    mean_right_dir  min_right_dir  max_right_dir  mean_wrong_dir  \\\n0         0.618056       0.000000       1.000000        0.288889   \n1         0.557222       0.250000       1.000000        0.306111   \n2         0.537222       0.166667       0.833333        0.329921   \n3         0.511131       0.285714       0.833333        0.348016   \n4         0.557837       0.333333       0.888889        0.279497   \n5         0.456133       0.185185       0.833333        0.249442   \n6         0.445862       0.185185       0.777778        0.296041   \n7         0.439325       0.151515       0.703704        0.284661   \n8         0.456386       0.151515       0.766667        0.265543   \n9         0.448404       0.212121       0.666667        0.296795   \n10        0.454636       0.212121       0.820513        0.293183   \n11        0.440570       0.238095       0.722222        0.299664   \n\n    min_wrong_dir  max_wrong_dir  mean_asc   min_asc  max_asc  mean_desc  ...  \\\n0        0.000000       1.000000  0.961538  0.666667      1.0   0.854938  ...   \n1        0.000000       0.666667  0.875817  0.000000      1.0   0.860556  ...   \n2        0.055556       0.833333  0.838889  0.333333      1.0   0.876901  ...   \n3        0.166667       0.666667  0.843519  0.000000      1.0   0.845278  ...   \n4        0.055556       0.666667  0.831579  0.000000      1.0   0.842222  ...   \n5        0.083333       0.444444  0.728333  0.444444      1.0   0.676607  ...   \n6        0.148148       0.481481  0.736389  0.333333      1.0   0.743095  ...   \n7        0.090909       0.500000  0.731667  0.166667      1.0   0.739286  ...   \n8        0.088889       0.515152  0.693056  0.333333      1.0   0.758975  ...   \n9        0.102564       0.454545  0.730615  0.388889      1.0   0.753032  ...   \n10       0.128205       0.487179  0.776971  0.611111      1.0   0.724622  ...   \n11       0.138889       0.500000  0.720734  0.466667      1.0   0.745166  ...   \n\n    indegree for actual 1 indegree  indegree for actual 2 indegree  \\\n0                         1.410256                        2.354167   \n1                         1.428571                        2.569444   \n2                         1.320513                        2.525253   \n3                         1.328125                        2.615385   \n4                         1.363095                        2.483796   \n5                         1.712573                        3.100926   \n6                         1.959649                        2.612573   \n7                         1.737222                        2.844136   \n8                         1.741667                        2.745988   \n9                         1.925833                        2.782164   \n10                        1.875833                        2.806667   \n11                        1.802339                        2.849365   \n\n    indegree for actual 3 indegree  indegree for actual 4 indegree  \\\n0                         2.666667                            -inf   \n1                         2.833333                        3.000000   \n2                         3.261905                        3.000000   \n3                         3.238095                        3.583333   \n4                         3.388889                        3.000000   \n5                         3.000000                        2.333333   \n6                         2.833333                        2.000000   \n7                         2.829060                        2.791667   \n8                         3.097222                        2.933333   \n9                         2.976190                        3.333333   \n10                        2.858974                        3.555556   \n11                        3.079365                        3.166667   \n\n    indegree for actual 5 indegree  indegree for actual 6 indegree  \\\n0                             -inf                            -inf   \n1                             -inf                            -inf   \n2                         2.666667                            -inf   \n3                             -inf                            -inf   \n4                         3.000000                            -inf   \n5                             -inf                            -inf   \n6                         3.666667                            -inf   \n7                             -inf                            -inf   \n8                         2.333333                             4.0   \n9                         3.666667                            -inf   \n10                        3.666667                            -inf   \n11                        2.500000                            -inf   \n\n    indegree for actual 7 indegree  indegree for actual 8 indegree  \\\n0                             -inf                            -inf   \n1                             -inf                            -inf   \n2                             -inf                            -inf   \n3                             -inf                            -inf   \n4                             -inf                            -inf   \n5                             -inf                            -inf   \n6                             -inf                            -inf   \n7                             -inf                            -inf   \n8                             -inf                            -inf   \n9                             -inf                            -inf   \n10                            -inf                            -inf   \n11                            -inf                            -inf   \n\n    indegree for actual 9 indegree  indegree for actual 10 indegree  \n0                             -inf                             -inf  \n1                             -inf                             -inf  \n2                             -inf                             -inf  \n3                             -inf                             -inf  \n4                             -inf                             -inf  \n5                             -inf                             -inf  \n6                             -inf                             -inf  \n7                             -inf                             -inf  \n8                             -inf                             -inf  \n9                             -inf                             -inf  \n10                            -inf                             -inf  \n11                            -inf                             -inf  \n\n[12 rows x 29 columns]",
      "text/html": "<div>\n<style scoped>\n    .dataframe tbody tr th:only-of-type {\n        vertical-align: middle;\n    }\n\n    .dataframe tbody tr th {\n        vertical-align: top;\n    }\n\n    .dataframe thead th {\n        text-align: right;\n    }\n</style>\n<table border=\"1\" class=\"dataframe\">\n  <thead>\n    <tr style=\"text-align: right;\">\n      <th></th>\n      <th>mean_right_dir</th>\n      <th>min_right_dir</th>\n      <th>max_right_dir</th>\n      <th>mean_wrong_dir</th>\n      <th>min_wrong_dir</th>\n      <th>max_wrong_dir</th>\n      <th>mean_asc</th>\n      <th>min_asc</th>\n      <th>max_asc</th>\n      <th>mean_desc</th>\n      <th>...</th>\n      <th>indegree for actual 1 indegree</th>\n      <th>indegree for actual 2 indegree</th>\n      <th>indegree for actual 3 indegree</th>\n      <th>indegree for actual 4 indegree</th>\n      <th>indegree for actual 5 indegree</th>\n      <th>indegree for actual 6 indegree</th>\n      <th>indegree for actual 7 indegree</th>\n      <th>indegree for actual 8 indegree</th>\n      <th>indegree for actual 9 indegree</th>\n      <th>indegree for actual 10 indegree</th>\n    </tr>\n  </thead>\n  <tbody>\n    <tr>\n      <th>0</th>\n      <td>0.618056</td>\n      <td>0.000000</td>\n      <td>1.000000</td>\n      <td>0.288889</td>\n      <td>0.000000</td>\n      <td>1.000000</td>\n      <td>0.961538</td>\n      <td>0.666667</td>\n      <td>1.0</td>\n      <td>0.854938</td>\n      <td>...</td>\n      <td>1.410256</td>\n      <td>2.354167</td>\n      <td>2.666667</td>\n      <td>-inf</td>\n      <td>-inf</td>\n      <td>-inf</td>\n      <td>-inf</td>\n      <td>-inf</td>\n      <td>-inf</td>\n      <td>-inf</td>\n    </tr>\n    <tr>\n      <th>1</th>\n      <td>0.557222</td>\n      <td>0.250000</td>\n      <td>1.000000</td>\n      <td>0.306111</td>\n      <td>0.000000</td>\n      <td>0.666667</td>\n      <td>0.875817</td>\n      <td>0.000000</td>\n      <td>1.0</td>\n      <td>0.860556</td>\n      <td>...</td>\n      <td>1.428571</td>\n      <td>2.569444</td>\n      <td>2.833333</td>\n      <td>3.000000</td>\n      <td>-inf</td>\n      <td>-inf</td>\n      <td>-inf</td>\n      <td>-inf</td>\n      <td>-inf</td>\n      <td>-inf</td>\n    </tr>\n    <tr>\n      <th>2</th>\n      <td>0.537222</td>\n      <td>0.166667</td>\n      <td>0.833333</td>\n      <td>0.329921</td>\n      <td>0.055556</td>\n      <td>0.833333</td>\n      <td>0.838889</td>\n      <td>0.333333</td>\n      <td>1.0</td>\n      <td>0.876901</td>\n      <td>...</td>\n      <td>1.320513</td>\n      <td>2.525253</td>\n      <td>3.261905</td>\n      <td>3.000000</td>\n      <td>2.666667</td>\n      <td>-inf</td>\n      <td>-inf</td>\n      <td>-inf</td>\n      <td>-inf</td>\n      <td>-inf</td>\n    </tr>\n    <tr>\n      <th>3</th>\n      <td>0.511131</td>\n      <td>0.285714</td>\n      <td>0.833333</td>\n      <td>0.348016</td>\n      <td>0.166667</td>\n      <td>0.666667</td>\n      <td>0.843519</td>\n      <td>0.000000</td>\n      <td>1.0</td>\n      <td>0.845278</td>\n      <td>...</td>\n      <td>1.328125</td>\n      <td>2.615385</td>\n      <td>3.238095</td>\n      <td>3.583333</td>\n      <td>-inf</td>\n      <td>-inf</td>\n      <td>-inf</td>\n      <td>-inf</td>\n      <td>-inf</td>\n      <td>-inf</td>\n    </tr>\n    <tr>\n      <th>4</th>\n      <td>0.557837</td>\n      <td>0.333333</td>\n      <td>0.888889</td>\n      <td>0.279497</td>\n      <td>0.055556</td>\n      <td>0.666667</td>\n      <td>0.831579</td>\n      <td>0.000000</td>\n      <td>1.0</td>\n      <td>0.842222</td>\n      <td>...</td>\n      <td>1.363095</td>\n      <td>2.483796</td>\n      <td>3.388889</td>\n      <td>3.000000</td>\n      <td>3.000000</td>\n      <td>-inf</td>\n      <td>-inf</td>\n      <td>-inf</td>\n      <td>-inf</td>\n      <td>-inf</td>\n    </tr>\n    <tr>\n      <th>5</th>\n      <td>0.456133</td>\n      <td>0.185185</td>\n      <td>0.833333</td>\n      <td>0.249442</td>\n      <td>0.083333</td>\n      <td>0.444444</td>\n      <td>0.728333</td>\n      <td>0.444444</td>\n      <td>1.0</td>\n      <td>0.676607</td>\n      <td>...</td>\n      <td>1.712573</td>\n      <td>3.100926</td>\n      <td>3.000000</td>\n      <td>2.333333</td>\n      <td>-inf</td>\n      <td>-inf</td>\n      <td>-inf</td>\n      <td>-inf</td>\n      <td>-inf</td>\n      <td>-inf</td>\n    </tr>\n    <tr>\n      <th>6</th>\n      <td>0.445862</td>\n      <td>0.185185</td>\n      <td>0.777778</td>\n      <td>0.296041</td>\n      <td>0.148148</td>\n      <td>0.481481</td>\n      <td>0.736389</td>\n      <td>0.333333</td>\n      <td>1.0</td>\n      <td>0.743095</td>\n      <td>...</td>\n      <td>1.959649</td>\n      <td>2.612573</td>\n      <td>2.833333</td>\n      <td>2.000000</td>\n      <td>3.666667</td>\n      <td>-inf</td>\n      <td>-inf</td>\n      <td>-inf</td>\n      <td>-inf</td>\n      <td>-inf</td>\n    </tr>\n    <tr>\n      <th>7</th>\n      <td>0.439325</td>\n      <td>0.151515</td>\n      <td>0.703704</td>\n      <td>0.284661</td>\n      <td>0.090909</td>\n      <td>0.500000</td>\n      <td>0.731667</td>\n      <td>0.166667</td>\n      <td>1.0</td>\n      <td>0.739286</td>\n      <td>...</td>\n      <td>1.737222</td>\n      <td>2.844136</td>\n      <td>2.829060</td>\n      <td>2.791667</td>\n      <td>-inf</td>\n      <td>-inf</td>\n      <td>-inf</td>\n      <td>-inf</td>\n      <td>-inf</td>\n      <td>-inf</td>\n    </tr>\n    <tr>\n      <th>8</th>\n      <td>0.456386</td>\n      <td>0.151515</td>\n      <td>0.766667</td>\n      <td>0.265543</td>\n      <td>0.088889</td>\n      <td>0.515152</td>\n      <td>0.693056</td>\n      <td>0.333333</td>\n      <td>1.0</td>\n      <td>0.758975</td>\n      <td>...</td>\n      <td>1.741667</td>\n      <td>2.745988</td>\n      <td>3.097222</td>\n      <td>2.933333</td>\n      <td>2.333333</td>\n      <td>4.0</td>\n      <td>-inf</td>\n      <td>-inf</td>\n      <td>-inf</td>\n      <td>-inf</td>\n    </tr>\n    <tr>\n      <th>9</th>\n      <td>0.448404</td>\n      <td>0.212121</td>\n      <td>0.666667</td>\n      <td>0.296795</td>\n      <td>0.102564</td>\n      <td>0.454545</td>\n      <td>0.730615</td>\n      <td>0.388889</td>\n      <td>1.0</td>\n      <td>0.753032</td>\n      <td>...</td>\n      <td>1.925833</td>\n      <td>2.782164</td>\n      <td>2.976190</td>\n      <td>3.333333</td>\n      <td>3.666667</td>\n      <td>-inf</td>\n      <td>-inf</td>\n      <td>-inf</td>\n      <td>-inf</td>\n      <td>-inf</td>\n    </tr>\n    <tr>\n      <th>10</th>\n      <td>0.454636</td>\n      <td>0.212121</td>\n      <td>0.820513</td>\n      <td>0.293183</td>\n      <td>0.128205</td>\n      <td>0.487179</td>\n      <td>0.776971</td>\n      <td>0.611111</td>\n      <td>1.0</td>\n      <td>0.724622</td>\n      <td>...</td>\n      <td>1.875833</td>\n      <td>2.806667</td>\n      <td>2.858974</td>\n      <td>3.555556</td>\n      <td>3.666667</td>\n      <td>-inf</td>\n      <td>-inf</td>\n      <td>-inf</td>\n      <td>-inf</td>\n      <td>-inf</td>\n    </tr>\n    <tr>\n      <th>11</th>\n      <td>0.440570</td>\n      <td>0.238095</td>\n      <td>0.722222</td>\n      <td>0.299664</td>\n      <td>0.138889</td>\n      <td>0.500000</td>\n      <td>0.720734</td>\n      <td>0.466667</td>\n      <td>1.0</td>\n      <td>0.745166</td>\n      <td>...</td>\n      <td>1.802339</td>\n      <td>2.849365</td>\n      <td>3.079365</td>\n      <td>3.166667</td>\n      <td>2.500000</td>\n      <td>-inf</td>\n      <td>-inf</td>\n      <td>-inf</td>\n      <td>-inf</td>\n      <td>-inf</td>\n    </tr>\n  </tbody>\n</table>\n<p>12 rows × 29 columns</p>\n</div>"
     },
     "execution_count": 4,
     "metadata": {},
     "output_type": "execute_result"
    }
   ],
   "source": [
    "pd.DataFrame([table2[k] for k in range(12)], columns=cols)"
   ],
   "metadata": {
    "collapsed": false,
    "ExecuteTime": {
     "end_time": "2023-05-28T15:59:04.374631300Z",
     "start_time": "2023-05-28T15:59:04.314677200Z"
    }
   }
  },
  {
   "cell_type": "code",
   "execution_count": null,
   "outputs": [],
   "source": [
    "table3 = list()\n",
    "for i in range(4, 16):\n",
    "    print(f\"{i} nodes\")\n",
    "    print(\"\")\n",
    "    table3.append(ex3aux.simulation(i, scoring=(\"K2\", BicScore), transitive_mode=True))"
   ],
   "metadata": {
    "collapsed": false
   }
  },
  {
   "cell_type": "code",
   "execution_count": 7,
   "outputs": [
    {
     "data": {
      "text/plain": "    mean_right_dir  min_right_dir  max_right_dir  mean_wrong_dir  \\\n0         0.618056       0.000000       1.000000        0.288889   \n1         0.557222       0.250000       1.000000        0.306111   \n2         0.537222       0.166667       0.833333        0.329921   \n3         0.511131       0.285714       0.833333        0.348016   \n4         0.557837       0.333333       0.888889        0.279497   \n5         0.321658       0.074074       0.629630        0.244537   \n6         0.355617       0.166667       0.666667        0.235568   \n7         0.335911       0.150000       0.490196        0.243178   \n8         0.330021       0.140351       0.717949        0.224159   \n9         0.330678       0.159420       0.536232        0.250762   \n10        0.342222       0.185185       0.627451        0.246337   \n11        0.313579       0.160000       0.484848        0.230393   \n\n    min_wrong_dir  max_wrong_dir  mean_asc   min_asc   max_asc  mean_desc  \\\n0        0.000000       1.000000  0.961538  0.666667  1.000000   0.854938   \n1        0.000000       0.666667  0.875817  0.000000  1.000000   0.860556   \n2        0.055556       0.833333  0.838889  0.333333  1.000000   0.876901   \n3        0.166667       0.666667  0.843519  0.000000  1.000000   0.845278   \n4        0.055556       0.666667  0.831579  0.000000  1.000000   0.842222   \n5        0.047619       0.407407  0.578770  0.111111  1.000000   0.554757   \n6        0.133333       0.333333  0.618022  0.291667  1.000000   0.584314   \n7        0.098039       0.393939  0.577043  0.185185  1.000000   0.589457   \n8        0.069444       0.355556  0.497007  0.185185  0.700000   0.600205   \n9        0.087719       0.361111  0.566849  0.393939  0.904762   0.600433   \n10       0.087719       0.404762  0.590120  0.333333  0.814815   0.589810   \n11       0.092593       0.351852  0.530280  0.272727  0.777778   0.545022   \n\n    ...  indegree for actual 1 indegree  indegree for actual 2 indegree  \\\n0   ...                        1.410256                        2.354167   \n1   ...                        1.428571                        2.569444   \n2   ...                        1.320513                        2.525253   \n3   ...                        1.328125                        2.615385   \n4   ...                        1.363095                        2.483796   \n5   ...                        1.911988                        2.900926   \n6   ...                        2.077193                        2.597953   \n7   ...                        1.913889                        2.763889   \n8   ...                        1.904101                        2.803086   \n9   ...                        2.012500                        2.774854   \n10  ...                        2.092222                        2.842222   \n11  ...                        1.886988                        2.824881   \n\n    indegree for actual 3 indegree  indegree for actual 4 indegree  \\\n0                         2.666667                            -inf   \n1                         2.833333                        3.000000   \n2                         3.261905                        3.000000   \n3                         3.238095                        3.583333   \n4                         3.388889                        3.000000   \n5                         3.066667                        2.666667   \n6                         2.910256                        3.333333   \n7                         2.880342                        3.083333   \n8                         2.944444                        2.366667   \n9                         3.011905                        2.666667   \n10                        2.846154                        3.333333   \n11                        2.853175                        3.312500   \n\n    indegree for actual 5 indegree  indegree for actual 6 indegree  \\\n0                             -inf                            -inf   \n1                             -inf                            -inf   \n2                         2.666667                            -inf   \n3                             -inf                            -inf   \n4                         3.000000                            -inf   \n5                             -inf                            -inf   \n6                         3.666667                            -inf   \n7                             -inf                            -inf   \n8                         2.333333                             4.0   \n9                         3.666667                            -inf   \n10                        3.333333                            -inf   \n11                        2.500000                            -inf   \n\n    indegree for actual 7 indegree  indegree for actual 8 indegree  \\\n0                             -inf                            -inf   \n1                             -inf                            -inf   \n2                             -inf                            -inf   \n3                             -inf                            -inf   \n4                             -inf                            -inf   \n5                             -inf                            -inf   \n6                             -inf                            -inf   \n7                             -inf                            -inf   \n8                             -inf                            -inf   \n9                             -inf                            -inf   \n10                            -inf                            -inf   \n11                            -inf                            -inf   \n\n    indegree for actual 9 indegree  indegree for actual 10 indegree  \n0                             -inf                             -inf  \n1                             -inf                             -inf  \n2                             -inf                             -inf  \n3                             -inf                             -inf  \n4                             -inf                             -inf  \n5                             -inf                             -inf  \n6                             -inf                             -inf  \n7                             -inf                             -inf  \n8                             -inf                             -inf  \n9                             -inf                             -inf  \n10                            -inf                             -inf  \n11                            -inf                             -inf  \n\n[12 rows x 29 columns]",
      "text/html": "<div>\n<style scoped>\n    .dataframe tbody tr th:only-of-type {\n        vertical-align: middle;\n    }\n\n    .dataframe tbody tr th {\n        vertical-align: top;\n    }\n\n    .dataframe thead th {\n        text-align: right;\n    }\n</style>\n<table border=\"1\" class=\"dataframe\">\n  <thead>\n    <tr style=\"text-align: right;\">\n      <th></th>\n      <th>mean_right_dir</th>\n      <th>min_right_dir</th>\n      <th>max_right_dir</th>\n      <th>mean_wrong_dir</th>\n      <th>min_wrong_dir</th>\n      <th>max_wrong_dir</th>\n      <th>mean_asc</th>\n      <th>min_asc</th>\n      <th>max_asc</th>\n      <th>mean_desc</th>\n      <th>...</th>\n      <th>indegree for actual 1 indegree</th>\n      <th>indegree for actual 2 indegree</th>\n      <th>indegree for actual 3 indegree</th>\n      <th>indegree for actual 4 indegree</th>\n      <th>indegree for actual 5 indegree</th>\n      <th>indegree for actual 6 indegree</th>\n      <th>indegree for actual 7 indegree</th>\n      <th>indegree for actual 8 indegree</th>\n      <th>indegree for actual 9 indegree</th>\n      <th>indegree for actual 10 indegree</th>\n    </tr>\n  </thead>\n  <tbody>\n    <tr>\n      <th>0</th>\n      <td>0.618056</td>\n      <td>0.000000</td>\n      <td>1.000000</td>\n      <td>0.288889</td>\n      <td>0.000000</td>\n      <td>1.000000</td>\n      <td>0.961538</td>\n      <td>0.666667</td>\n      <td>1.000000</td>\n      <td>0.854938</td>\n      <td>...</td>\n      <td>1.410256</td>\n      <td>2.354167</td>\n      <td>2.666667</td>\n      <td>-inf</td>\n      <td>-inf</td>\n      <td>-inf</td>\n      <td>-inf</td>\n      <td>-inf</td>\n      <td>-inf</td>\n      <td>-inf</td>\n    </tr>\n    <tr>\n      <th>1</th>\n      <td>0.557222</td>\n      <td>0.250000</td>\n      <td>1.000000</td>\n      <td>0.306111</td>\n      <td>0.000000</td>\n      <td>0.666667</td>\n      <td>0.875817</td>\n      <td>0.000000</td>\n      <td>1.000000</td>\n      <td>0.860556</td>\n      <td>...</td>\n      <td>1.428571</td>\n      <td>2.569444</td>\n      <td>2.833333</td>\n      <td>3.000000</td>\n      <td>-inf</td>\n      <td>-inf</td>\n      <td>-inf</td>\n      <td>-inf</td>\n      <td>-inf</td>\n      <td>-inf</td>\n    </tr>\n    <tr>\n      <th>2</th>\n      <td>0.537222</td>\n      <td>0.166667</td>\n      <td>0.833333</td>\n      <td>0.329921</td>\n      <td>0.055556</td>\n      <td>0.833333</td>\n      <td>0.838889</td>\n      <td>0.333333</td>\n      <td>1.000000</td>\n      <td>0.876901</td>\n      <td>...</td>\n      <td>1.320513</td>\n      <td>2.525253</td>\n      <td>3.261905</td>\n      <td>3.000000</td>\n      <td>2.666667</td>\n      <td>-inf</td>\n      <td>-inf</td>\n      <td>-inf</td>\n      <td>-inf</td>\n      <td>-inf</td>\n    </tr>\n    <tr>\n      <th>3</th>\n      <td>0.511131</td>\n      <td>0.285714</td>\n      <td>0.833333</td>\n      <td>0.348016</td>\n      <td>0.166667</td>\n      <td>0.666667</td>\n      <td>0.843519</td>\n      <td>0.000000</td>\n      <td>1.000000</td>\n      <td>0.845278</td>\n      <td>...</td>\n      <td>1.328125</td>\n      <td>2.615385</td>\n      <td>3.238095</td>\n      <td>3.583333</td>\n      <td>-inf</td>\n      <td>-inf</td>\n      <td>-inf</td>\n      <td>-inf</td>\n      <td>-inf</td>\n      <td>-inf</td>\n    </tr>\n    <tr>\n      <th>4</th>\n      <td>0.557837</td>\n      <td>0.333333</td>\n      <td>0.888889</td>\n      <td>0.279497</td>\n      <td>0.055556</td>\n      <td>0.666667</td>\n      <td>0.831579</td>\n      <td>0.000000</td>\n      <td>1.000000</td>\n      <td>0.842222</td>\n      <td>...</td>\n      <td>1.363095</td>\n      <td>2.483796</td>\n      <td>3.388889</td>\n      <td>3.000000</td>\n      <td>3.000000</td>\n      <td>-inf</td>\n      <td>-inf</td>\n      <td>-inf</td>\n      <td>-inf</td>\n      <td>-inf</td>\n    </tr>\n    <tr>\n      <th>5</th>\n      <td>0.321658</td>\n      <td>0.074074</td>\n      <td>0.629630</td>\n      <td>0.244537</td>\n      <td>0.047619</td>\n      <td>0.407407</td>\n      <td>0.578770</td>\n      <td>0.111111</td>\n      <td>1.000000</td>\n      <td>0.554757</td>\n      <td>...</td>\n      <td>1.911988</td>\n      <td>2.900926</td>\n      <td>3.066667</td>\n      <td>2.666667</td>\n      <td>-inf</td>\n      <td>-inf</td>\n      <td>-inf</td>\n      <td>-inf</td>\n      <td>-inf</td>\n      <td>-inf</td>\n    </tr>\n    <tr>\n      <th>6</th>\n      <td>0.355617</td>\n      <td>0.166667</td>\n      <td>0.666667</td>\n      <td>0.235568</td>\n      <td>0.133333</td>\n      <td>0.333333</td>\n      <td>0.618022</td>\n      <td>0.291667</td>\n      <td>1.000000</td>\n      <td>0.584314</td>\n      <td>...</td>\n      <td>2.077193</td>\n      <td>2.597953</td>\n      <td>2.910256</td>\n      <td>3.333333</td>\n      <td>3.666667</td>\n      <td>-inf</td>\n      <td>-inf</td>\n      <td>-inf</td>\n      <td>-inf</td>\n      <td>-inf</td>\n    </tr>\n    <tr>\n      <th>7</th>\n      <td>0.335911</td>\n      <td>0.150000</td>\n      <td>0.490196</td>\n      <td>0.243178</td>\n      <td>0.098039</td>\n      <td>0.393939</td>\n      <td>0.577043</td>\n      <td>0.185185</td>\n      <td>1.000000</td>\n      <td>0.589457</td>\n      <td>...</td>\n      <td>1.913889</td>\n      <td>2.763889</td>\n      <td>2.880342</td>\n      <td>3.083333</td>\n      <td>-inf</td>\n      <td>-inf</td>\n      <td>-inf</td>\n      <td>-inf</td>\n      <td>-inf</td>\n      <td>-inf</td>\n    </tr>\n    <tr>\n      <th>8</th>\n      <td>0.330021</td>\n      <td>0.140351</td>\n      <td>0.717949</td>\n      <td>0.224159</td>\n      <td>0.069444</td>\n      <td>0.355556</td>\n      <td>0.497007</td>\n      <td>0.185185</td>\n      <td>0.700000</td>\n      <td>0.600205</td>\n      <td>...</td>\n      <td>1.904101</td>\n      <td>2.803086</td>\n      <td>2.944444</td>\n      <td>2.366667</td>\n      <td>2.333333</td>\n      <td>4.0</td>\n      <td>-inf</td>\n      <td>-inf</td>\n      <td>-inf</td>\n      <td>-inf</td>\n    </tr>\n    <tr>\n      <th>9</th>\n      <td>0.330678</td>\n      <td>0.159420</td>\n      <td>0.536232</td>\n      <td>0.250762</td>\n      <td>0.087719</td>\n      <td>0.361111</td>\n      <td>0.566849</td>\n      <td>0.393939</td>\n      <td>0.904762</td>\n      <td>0.600433</td>\n      <td>...</td>\n      <td>2.012500</td>\n      <td>2.774854</td>\n      <td>3.011905</td>\n      <td>2.666667</td>\n      <td>3.666667</td>\n      <td>-inf</td>\n      <td>-inf</td>\n      <td>-inf</td>\n      <td>-inf</td>\n      <td>-inf</td>\n    </tr>\n    <tr>\n      <th>10</th>\n      <td>0.342222</td>\n      <td>0.185185</td>\n      <td>0.627451</td>\n      <td>0.246337</td>\n      <td>0.087719</td>\n      <td>0.404762</td>\n      <td>0.590120</td>\n      <td>0.333333</td>\n      <td>0.814815</td>\n      <td>0.589810</td>\n      <td>...</td>\n      <td>2.092222</td>\n      <td>2.842222</td>\n      <td>2.846154</td>\n      <td>3.333333</td>\n      <td>3.333333</td>\n      <td>-inf</td>\n      <td>-inf</td>\n      <td>-inf</td>\n      <td>-inf</td>\n      <td>-inf</td>\n    </tr>\n    <tr>\n      <th>11</th>\n      <td>0.313579</td>\n      <td>0.160000</td>\n      <td>0.484848</td>\n      <td>0.230393</td>\n      <td>0.092593</td>\n      <td>0.351852</td>\n      <td>0.530280</td>\n      <td>0.272727</td>\n      <td>0.777778</td>\n      <td>0.545022</td>\n      <td>...</td>\n      <td>1.886988</td>\n      <td>2.824881</td>\n      <td>2.853175</td>\n      <td>3.312500</td>\n      <td>2.500000</td>\n      <td>-inf</td>\n      <td>-inf</td>\n      <td>-inf</td>\n      <td>-inf</td>\n      <td>-inf</td>\n    </tr>\n  </tbody>\n</table>\n<p>12 rows × 29 columns</p>\n</div>"
     },
     "execution_count": 7,
     "metadata": {},
     "output_type": "execute_result"
    }
   ],
   "source": [
    "pd.DataFrame([table3[k] for k in range(12)], columns=cols)"
   ],
   "metadata": {
    "collapsed": false,
    "ExecuteTime": {
     "end_time": "2023-05-28T16:43:20.184491400Z",
     "start_time": "2023-05-28T16:43:20.148043900Z"
    }
   }
  },
  {
   "cell_type": "code",
   "execution_count": null,
   "outputs": [],
   "source": [
    "n=8\n",
    "edges,into_degree,out_degree,position = ex3aux.DAGs_generate(n=n, max_out=2, random_state=42)\n",
    "\n",
    "ex3aux.plot_DAG(edges, position)\n",
    "edges"
   ],
   "metadata": {
    "collapsed": false
   }
  },
  {
   "cell_type": "code",
   "execution_count": null,
   "outputs": [],
   "source": [
    "bn_graph = nx.DiGraph()\n",
    "bn_graph.add_edges_from(edges)\n",
    "bn_graph.add_nodes_from(list(range(1, n+1)))\n",
    "nx.adjacency_matrix(bn_graph, nodelist=list(range(1, 6))).todense()\n",
    "bn_graph.number_of_nodes()"
   ],
   "metadata": {
    "collapsed": false
   }
  },
  {
   "cell_type": "code",
   "execution_count": null,
   "outputs": [],
   "source": [
    "bg_trenc = nx.transitive_closure(bn_graph)\n",
    "nx.draw_networkx(bg_trenc, arrows=True, pos=position)"
   ],
   "metadata": {
    "collapsed": false
   }
  },
  {
   "cell_type": "code",
   "execution_count": null,
   "outputs": [],
   "source": [
    "adj_m=ex3aux.set_signs(bn_graph)"
   ],
   "metadata": {
    "collapsed": false
   }
  },
  {
   "cell_type": "code",
   "execution_count": null,
   "outputs": [],
   "source": [
    "adj_m"
   ],
   "metadata": {
    "collapsed": false
   }
  },
  {
   "cell_type": "code",
   "execution_count": null,
   "outputs": [],
   "source": [
    "nx.draw_networkx(bn_graph.reverse(), arrows=True, pos=position)"
   ],
   "metadata": {
    "collapsed": false
   }
  },
  {
   "cell_type": "code",
   "execution_count": null,
   "outputs": [],
   "source": [
    "data = ex3aux.build_dataset(adj_m, names=\"A B C D E F G H\".split(\" \"), n_samples=1000)"
   ],
   "metadata": {
    "collapsed": false
   }
  },
  {
   "cell_type": "code",
   "execution_count": null,
   "outputs": [],
   "source": [
    "data"
   ],
   "metadata": {
    "collapsed": false
   }
  },
  {
   "cell_type": "code",
   "execution_count": null,
   "outputs": [],
   "source": [
    "import experiments2.auxiliary.auxiliary as aux\n",
    "import networkx as nx"
   ],
   "metadata": {
    "collapsed": false
   }
  },
  {
   "cell_type": "code",
   "execution_count": null,
   "outputs": [],
   "source": [
    "bn = aux.construct_by_kmeans(data, [])"
   ],
   "metadata": {
    "collapsed": false
   }
  },
  {
   "cell_type": "code",
   "execution_count": null,
   "outputs": [],
   "source": [
    "bn['categories']"
   ],
   "metadata": {
    "collapsed": false
   }
  },
  {
   "cell_type": "code",
   "execution_count": null,
   "outputs": [],
   "source": [
    "bn_nx = nx.DiGraph()\n",
    "\n",
    "bn_nx.add_nodes_from(bn['categories'])\n",
    "bn_nx.add_edges_from([(x, y) for x, y in bn['bn'].edges])"
   ],
   "metadata": {
    "collapsed": false
   }
  },
  {
   "cell_type": "code",
   "execution_count": null,
   "outputs": [],
   "source": [
    "nx.draw(bn_nx)"
   ],
   "metadata": {
    "collapsed": false
   }
  },
  {
   "cell_type": "code",
   "execution_count": null,
   "outputs": [],
   "source": [
    "nx.average_degree_connectivity(bn_nx)"
   ],
   "metadata": {
    "collapsed": false
   }
  },
  {
   "cell_type": "code",
   "execution_count": null,
   "outputs": [],
   "source": [
    "sum([e[1] for e in list(bn_nx.in_degree())])/24"
   ],
   "metadata": {
    "collapsed": false
   }
  },
  {
   "cell_type": "code",
   "execution_count": null,
   "outputs": [],
   "source": [
    "sum([e[1] for e in list(bn_nx.out_degree())])/24"
   ],
   "metadata": {
    "collapsed": false
   }
  }
 ],
 "metadata": {
  "kernelspec": {
   "display_name": "Python 3",
   "language": "python",
   "name": "python3"
  },
  "language_info": {
   "codemirror_mode": {
    "name": "ipython",
    "version": 2
   },
   "file_extension": ".py",
   "mimetype": "text/x-python",
   "name": "python",
   "nbconvert_exporter": "python",
   "pygments_lexer": "ipython2",
   "version": "2.7.6"
  }
 },
 "nbformat": 4,
 "nbformat_minor": 0
}
