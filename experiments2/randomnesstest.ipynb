{
 "cells": [
  {
   "cell_type": "code",
   "execution_count": 1,
   "metadata": {
    "collapsed": true
   },
   "outputs": [],
   "source": [
    "import pandas as pd\n",
    "import numpy as np\n",
    "import bamt.preprocessors\n",
    "import bamt.networks as Nets\n",
    "from sklearn.preprocessing import OneHotEncoder\n",
    "\n",
    "from itertools import product\n",
    "from pgmpy.estimators import K2Score\n"
   ]
  },
  {
   "cell_type": "code",
   "execution_count": 2,
   "outputs": [],
   "source": [
    "data = pd.read_csv(\"synthetic.csv\")\n",
    "data.drop(columns=['Unnamed: 0'], inplace=True)"
   ],
   "metadata": {
    "collapsed": false
   }
  },
  {
   "cell_type": "code",
   "execution_count": 3,
   "outputs": [
    {
     "data": {
      "text/plain": "       origin1   origin2     cubed  negative_root3  hyperbola  combined  \\\n0     2.119492  0.737207  0.174883       -0.794917   0.118959 -0.620034   \n1    -2.625095  0.031537 -0.477368       -0.337130   0.461323 -0.814498   \n2    -2.894855  0.009888 -0.505449       -0.261298   0.660181 -0.766747   \n3     2.688882  0.292918  0.486818       -0.737814   0.044543 -0.250996   \n4     1.990172  0.243591  0.188168       -0.630120   0.361815 -0.441953   \n...        ...       ...       ...             ...        ...       ...   \n1995 -1.058996  0.001015 -0.052232       -0.223609   0.293884 -0.275842   \n1996  0.970856  0.000148 -0.099516       -0.051751   0.158146 -0.151267   \n1997  1.772789  0.719539  0.154715       -0.843346   0.163430 -0.688631   \n1998  2.566010  1.369119  0.448988       -1.271503   0.171588 -0.822514   \n1999  2.283454  0.195828  0.313645       -0.672699   0.443207 -0.359054   \n\n      marker  \n0          1  \n1          2  \n2          1  \n3          1  \n4          0  \n...      ...  \n1995       1  \n1996       0  \n1997       1  \n1998       1  \n1999       0  \n\n[2000 rows x 7 columns]",
      "text/html": "<div>\n<style scoped>\n    .dataframe tbody tr th:only-of-type {\n        vertical-align: middle;\n    }\n\n    .dataframe tbody tr th {\n        vertical-align: top;\n    }\n\n    .dataframe thead th {\n        text-align: right;\n    }\n</style>\n<table border=\"1\" class=\"dataframe\">\n  <thead>\n    <tr style=\"text-align: right;\">\n      <th></th>\n      <th>origin1</th>\n      <th>origin2</th>\n      <th>cubed</th>\n      <th>negative_root3</th>\n      <th>hyperbola</th>\n      <th>combined</th>\n      <th>marker</th>\n    </tr>\n  </thead>\n  <tbody>\n    <tr>\n      <th>0</th>\n      <td>2.119492</td>\n      <td>0.737207</td>\n      <td>0.174883</td>\n      <td>-0.794917</td>\n      <td>0.118959</td>\n      <td>-0.620034</td>\n      <td>1</td>\n    </tr>\n    <tr>\n      <th>1</th>\n      <td>-2.625095</td>\n      <td>0.031537</td>\n      <td>-0.477368</td>\n      <td>-0.337130</td>\n      <td>0.461323</td>\n      <td>-0.814498</td>\n      <td>2</td>\n    </tr>\n    <tr>\n      <th>2</th>\n      <td>-2.894855</td>\n      <td>0.009888</td>\n      <td>-0.505449</td>\n      <td>-0.261298</td>\n      <td>0.660181</td>\n      <td>-0.766747</td>\n      <td>1</td>\n    </tr>\n    <tr>\n      <th>3</th>\n      <td>2.688882</td>\n      <td>0.292918</td>\n      <td>0.486818</td>\n      <td>-0.737814</td>\n      <td>0.044543</td>\n      <td>-0.250996</td>\n      <td>1</td>\n    </tr>\n    <tr>\n      <th>4</th>\n      <td>1.990172</td>\n      <td>0.243591</td>\n      <td>0.188168</td>\n      <td>-0.630120</td>\n      <td>0.361815</td>\n      <td>-0.441953</td>\n      <td>0</td>\n    </tr>\n    <tr>\n      <th>...</th>\n      <td>...</td>\n      <td>...</td>\n      <td>...</td>\n      <td>...</td>\n      <td>...</td>\n      <td>...</td>\n      <td>...</td>\n    </tr>\n    <tr>\n      <th>1995</th>\n      <td>-1.058996</td>\n      <td>0.001015</td>\n      <td>-0.052232</td>\n      <td>-0.223609</td>\n      <td>0.293884</td>\n      <td>-0.275842</td>\n      <td>1</td>\n    </tr>\n    <tr>\n      <th>1996</th>\n      <td>0.970856</td>\n      <td>0.000148</td>\n      <td>-0.099516</td>\n      <td>-0.051751</td>\n      <td>0.158146</td>\n      <td>-0.151267</td>\n      <td>0</td>\n    </tr>\n    <tr>\n      <th>1997</th>\n      <td>1.772789</td>\n      <td>0.719539</td>\n      <td>0.154715</td>\n      <td>-0.843346</td>\n      <td>0.163430</td>\n      <td>-0.688631</td>\n      <td>1</td>\n    </tr>\n    <tr>\n      <th>1998</th>\n      <td>2.566010</td>\n      <td>1.369119</td>\n      <td>0.448988</td>\n      <td>-1.271503</td>\n      <td>0.171588</td>\n      <td>-0.822514</td>\n      <td>1</td>\n    </tr>\n    <tr>\n      <th>1999</th>\n      <td>2.283454</td>\n      <td>0.195828</td>\n      <td>0.313645</td>\n      <td>-0.672699</td>\n      <td>0.443207</td>\n      <td>-0.359054</td>\n      <td>0</td>\n    </tr>\n  </tbody>\n</table>\n<p>2000 rows × 7 columns</p>\n</div>"
     },
     "execution_count": 3,
     "metadata": {},
     "output_type": "execute_result"
    }
   ],
   "source": [
    "data"
   ],
   "metadata": {
    "collapsed": false
   }
  },
  {
   "cell_type": "code",
   "execution_count": 4,
   "outputs": [],
   "source": [
    "# define categorical variables\n",
    "categoricals = ['marker']\n",
    "\n",
    "data_discretized = data.copy(deep=True)\n",
    "conts = data.columns if categoricals is None else data.columns.difference(categoricals)\n",
    "for feat in conts:\n",
    "    data_discretized[feat] = pd.cut(data[feat], bins=3, labels=False, duplicates='drop')\n",
    "\n",
    "# define all categories (gradations) like Low, Mid, High\n",
    "categories = [feat + str(int(k)) for feat in data_discretized.columns for k in\n",
    "                  sorted(data_discretized[feat].unique())]\n",
    "\n",
    "# construction of one-hot encoded dataset\n",
    "encoder = OneHotEncoder(sparse=False)\n",
    "data_discretized_enc = pd.DataFrame(encoder.fit_transform(X=data_discretized), columns=categories, dtype='uint8')\n",
    "\n",
    "# define blacklist of edges which connect gradations of the same feature\n",
    "ublacklist = [(node1, node2) for node1, node2 in product(categories, categories) if node1[:-1] == node2[:-1]]\n",
    "\n",
    "params = {'bl_add': ublacklist}\n",
    "\n",
    "bn = Nets.DiscreteBN()\n"
   ],
   "metadata": {
    "collapsed": false
   }
  },
  {
   "cell_type": "code",
   "execution_count": 5,
   "outputs": [],
   "source": [
    "nodes_descriptor = dict(types={cat: 'disc' for _, cat in enumerate(categories)})\n",
    "bn.add_nodes(nodes_descriptor)"
   ],
   "metadata": {
    "collapsed": false
   }
  },
  {
   "cell_type": "code",
   "execution_count": 6,
   "outputs": [
    {
     "data": {
      "text/plain": "{'types': {'origin10': 'disc',\n  'origin11': 'disc',\n  'origin12': 'disc',\n  'origin20': 'disc',\n  'origin21': 'disc',\n  'origin22': 'disc',\n  'cubed0': 'disc',\n  'cubed1': 'disc',\n  'cubed2': 'disc',\n  'negative_root30': 'disc',\n  'negative_root31': 'disc',\n  'negative_root32': 'disc',\n  'hyperbola0': 'disc',\n  'hyperbola1': 'disc',\n  'hyperbola2': 'disc',\n  'combined0': 'disc',\n  'combined1': 'disc',\n  'combined2': 'disc',\n  'marker0': 'disc',\n  'marker1': 'disc',\n  'marker2': 'disc'}}"
     },
     "execution_count": 6,
     "metadata": {},
     "output_type": "execute_result"
    }
   ],
   "source": [
    "nodes_descriptor"
   ],
   "metadata": {
    "collapsed": false
   }
  },
  {
   "cell_type": "code",
   "execution_count": 7,
   "outputs": [],
   "source": [
    "np.random.seed(42)\n",
    "bn.add_edges(data_discretized_enc.astype(\"int32\"), scoring_function=(\"K2\", K2Score), params=params,\n",
    "                     progress_bar=False)"
   ],
   "metadata": {
    "collapsed": false
   }
  },
  {
   "cell_type": "code",
   "execution_count": 8,
   "outputs": [
    {
     "name": "stdout",
     "output_type": "stream",
     "text": [
      "Local cdn resources have problems on chrome/safari when used in jupyter-notebook. \n"
     ]
    },
    {
     "data": {
      "text/plain": "<IPython.lib.display.IFrame at 0x2d7c8e212e0>",
      "text/html": "\n        <iframe\n            width=\"100%\"\n            height=\"800px\"\n            src=\"visualization_result/bn_after.html\"\n            frameborder=\"0\"\n            allowfullscreen\n        ></iframe>\n        "
     },
     "execution_count": 8,
     "metadata": {},
     "output_type": "execute_result"
    }
   ],
   "source": [
    "bn.plot2(\"visualization_result\" , \"bn_after.html\", custom_mapper={'marker': {0: 'Zero', 1: 'One', 2: 'Two'}})"
   ],
   "metadata": {
    "collapsed": false
   }
  },
  {
   "cell_type": "code",
   "execution_count": 8,
   "outputs": [],
   "source": [],
   "metadata": {
    "collapsed": false
   }
  }
 ],
 "metadata": {
  "kernelspec": {
   "display_name": "Python 3",
   "language": "python",
   "name": "python3"
  },
  "language_info": {
   "codemirror_mode": {
    "name": "ipython",
    "version": 2
   },
   "file_extension": ".py",
   "mimetype": "text/x-python",
   "name": "python",
   "nbconvert_exporter": "python",
   "pygments_lexer": "ipython2",
   "version": "2.7.6"
  }
 },
 "nbformat": 4,
 "nbformat_minor": 0
}
