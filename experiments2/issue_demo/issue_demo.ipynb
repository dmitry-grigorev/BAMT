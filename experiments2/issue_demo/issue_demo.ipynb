{
 "cells": [
  {
   "cell_type": "code",
   "execution_count": 1,
   "outputs": [],
   "source": [
    "from auxiliary.auxiliary import *\n",
    "\n",
    "plt.rcParams.update({'font.size': 14})\n",
    "\n",
    "imagespath = 'C:/Users/Acer/PycharmProjects/BAMTclone/BAMT/experiments2/images'"
   ],
   "metadata": {
    "collapsed": false,
    "ExecuteTime": {
     "start_time": "2023-04-24T23:11:17.894526Z",
     "end_time": "2023-04-24T23:11:21.484261Z"
    }
   }
  },
  {
   "cell_type": "markdown",
   "source": [],
   "metadata": {
    "collapsed": false
   }
  },
  {
   "cell_type": "markdown",
   "source": [
    "Проблема: при перезапуске ядра строится БС с другой структурой. Синтетический датасет остаётся тем же, это было проверено."
   ],
   "metadata": {
    "collapsed": false
   }
  },
  {
   "cell_type": "code",
   "execution_count": 2,
   "outputs": [
    {
     "data": {
      "text/plain": "    origin1   origin2     cubed  negative_root3  combined\n0  2.119492  0.737207  0.174883       -0.794917 -0.620034\n1 -2.625095  0.031537 -0.477368       -0.337130 -0.814498\n2 -2.894855  0.009888 -0.505449       -0.261298 -0.766747\n3  2.688882  0.292918  0.486818       -0.737814 -0.250996\n4  1.990172  0.243591  0.188168       -0.630120 -0.441953\n5  0.055618  1.007663  0.114813       -1.010407 -0.895594\n6  1.978326  1.391204  0.189030       -1.095673 -0.906644\n7  2.810375  0.138295  0.314106       -0.530062 -0.215957\n8  1.026379  0.008179 -0.230460       -0.214845 -0.445304\n9 -0.542534  0.038656  0.011687       -0.415791 -0.404104",
      "text/html": "<div>\n<style scoped>\n    .dataframe tbody tr th:only-of-type {\n        vertical-align: middle;\n    }\n\n    .dataframe tbody tr th {\n        vertical-align: top;\n    }\n\n    .dataframe thead th {\n        text-align: right;\n    }\n</style>\n<table border=\"1\" class=\"dataframe\">\n  <thead>\n    <tr style=\"text-align: right;\">\n      <th></th>\n      <th>origin1</th>\n      <th>origin2</th>\n      <th>cubed</th>\n      <th>negative_root3</th>\n      <th>combined</th>\n    </tr>\n  </thead>\n  <tbody>\n    <tr>\n      <th>0</th>\n      <td>2.119492</td>\n      <td>0.737207</td>\n      <td>0.174883</td>\n      <td>-0.794917</td>\n      <td>-0.620034</td>\n    </tr>\n    <tr>\n      <th>1</th>\n      <td>-2.625095</td>\n      <td>0.031537</td>\n      <td>-0.477368</td>\n      <td>-0.337130</td>\n      <td>-0.814498</td>\n    </tr>\n    <tr>\n      <th>2</th>\n      <td>-2.894855</td>\n      <td>0.009888</td>\n      <td>-0.505449</td>\n      <td>-0.261298</td>\n      <td>-0.766747</td>\n    </tr>\n    <tr>\n      <th>3</th>\n      <td>2.688882</td>\n      <td>0.292918</td>\n      <td>0.486818</td>\n      <td>-0.737814</td>\n      <td>-0.250996</td>\n    </tr>\n    <tr>\n      <th>4</th>\n      <td>1.990172</td>\n      <td>0.243591</td>\n      <td>0.188168</td>\n      <td>-0.630120</td>\n      <td>-0.441953</td>\n    </tr>\n    <tr>\n      <th>5</th>\n      <td>0.055618</td>\n      <td>1.007663</td>\n      <td>0.114813</td>\n      <td>-1.010407</td>\n      <td>-0.895594</td>\n    </tr>\n    <tr>\n      <th>6</th>\n      <td>1.978326</td>\n      <td>1.391204</td>\n      <td>0.189030</td>\n      <td>-1.095673</td>\n      <td>-0.906644</td>\n    </tr>\n    <tr>\n      <th>7</th>\n      <td>2.810375</td>\n      <td>0.138295</td>\n      <td>0.314106</td>\n      <td>-0.530062</td>\n      <td>-0.215957</td>\n    </tr>\n    <tr>\n      <th>8</th>\n      <td>1.026379</td>\n      <td>0.008179</td>\n      <td>-0.230460</td>\n      <td>-0.214845</td>\n      <td>-0.445304</td>\n    </tr>\n    <tr>\n      <th>9</th>\n      <td>-0.542534</td>\n      <td>0.038656</td>\n      <td>0.011687</td>\n      <td>-0.415791</td>\n      <td>-0.404104</td>\n    </tr>\n  </tbody>\n</table>\n</div>"
     },
     "execution_count": 2,
     "metadata": {},
     "output_type": "execute_result"
    }
   ],
   "source": [
    "n = 2000\n",
    "np.random.seed(42)\n",
    "data = pd.DataFrame(data=np.random.beta(0.95, 0.5, size=n)*6-3, columns=['origin1'])\n",
    "data['origin2'] = np.random.beta(0.4,1, size=n)*2\n",
    "data['cubed'] = data['origin1']**3/50 + np.random.normal(scale=0.1, size=n)\n",
    "data['negative_root3'] = -np.sign(data['origin2'])*np.power(np.abs(data['origin2']), 1/3) + np.random.normal(scale=0.1, size=n)\n",
    "data['combined'] = data['cubed'] + data['negative_root3']\n",
    "\n",
    "data.head(10)"
   ],
   "metadata": {
    "collapsed": false,
    "ExecuteTime": {
     "start_time": "2023-04-24T23:11:21.487261Z",
     "end_time": "2023-04-24T23:11:21.528829Z"
    }
   }
  },
  {
   "cell_type": "code",
   "execution_count": 3,
   "outputs": [
    {
     "name": "stdout",
     "output_type": "stream",
     "text": [
      "Local cdn resources have problems on chrome/safari when used in jupyter-notebook. \n"
     ]
    }
   ],
   "source": [
    "qresult = construct_by_quantiles(data, None)\n",
    "bn = qresult['bn']\n",
    "\n",
    "#c=bn.plot2(\"visualization_results\" , \"before1.html\")\n",
    "c=bn.plot2(\"visualization_results\" , \"after1.html\") # uncomment to build network after kernel restart and comment row above"
   ],
   "metadata": {
    "collapsed": false,
    "ExecuteTime": {
     "start_time": "2023-04-24T23:11:21.516760Z",
     "end_time": "2023-04-24T23:11:23.635491Z"
    }
   }
  },
  {
   "cell_type": "markdown",
   "source": [
    "Такие БС получаются в двух различных перезапусках ядра (и вряд ли они получатся в следующих запусках)"
   ],
   "metadata": {
    "collapsed": false
   }
  },
  {
   "cell_type": "markdown",
   "source": [
    "![](issue_demo_before.png)"
   ],
   "metadata": {
    "collapsed": false
   }
  },
  {
   "cell_type": "markdown",
   "source": [
    "![](issue_demo_after.png)"
   ],
   "metadata": {
    "collapsed": false
   }
  },
  {
   "cell_type": "markdown",
   "source": [
    "Если же вернуться к обычному построению БС с узлами-признаками, то здесь тоже возникает разница от перезапуска ядра"
   ],
   "metadata": {
    "collapsed": false
   }
  },
  {
   "cell_type": "code",
   "execution_count": 4,
   "outputs": [
    {
     "name": "stdout",
     "output_type": "stream",
     "text": [
      "2023-04-10 13:28:36,410 | INFO     | preprocessors.py-scan-0091 | No one column is discrete\n"
     ]
    }
   ],
   "source": [
    "from sklearn import preprocessing\n",
    "\n",
    "encoder = preprocessing.LabelEncoder()\n",
    "discretizer = preprocessing.KBinsDiscretizer(n_bins=4, encode='ordinal', strategy='quantile')\n",
    "\n",
    "p = bamt.preprocessors.Preprocessor([('encoder', encoder), ('discretizer', discretizer)])\n",
    "discretized_data, est = p.apply(data)"
   ],
   "metadata": {
    "collapsed": false
   }
  },
  {
   "cell_type": "code",
   "execution_count": 7,
   "outputs": [
    {
     "data": {
      "text/plain": "  0%|          | 0/1000000 [00:00<?, ?it/s]",
      "application/vnd.jupyter.widget-view+json": {
       "version_major": 2,
       "version_minor": 0,
       "model_id": "ff8d9e11c30e47118900e53f2c95f2c6"
      }
     },
     "metadata": {},
     "output_type": "display_data"
    }
   ],
   "source": [
    "bn = Nets.ContinuousBN()\n",
    "\n",
    "bn.add_nodes(p.info)\n",
    "\n",
    "bn.add_edges(discretized_data,  scoring_function=(\"K2\",K2Score))"
   ],
   "metadata": {
    "collapsed": false
   }
  },
  {
   "cell_type": "code",
   "execution_count": 8,
   "outputs": [
    {
     "name": "stdout",
     "output_type": "stream",
     "text": [
      "Local cdn resources have problems on chrome/safari when used in jupyter-notebook. \n"
     ]
    }
   ],
   "source": [
    "c=bn.plot(\"default_before.html\")\n",
    "#c=bn.plot(\"default_after.html\")"
   ],
   "metadata": {
    "collapsed": false
   }
  },
  {
   "cell_type": "markdown",
   "source": [
    "![](default_before.png)"
   ],
   "metadata": {
    "collapsed": false
   }
  },
  {
   "cell_type": "markdown",
   "source": [
    "![](default_after.png)"
   ],
   "metadata": {
    "collapsed": false
   }
  },
  {
   "cell_type": "code",
   "execution_count": 8,
   "outputs": [],
   "source": [],
   "metadata": {
    "collapsed": false,
    "ExecuteTime": {
     "start_time": "2023-04-10T13:28:36.769217Z",
     "end_time": "2023-04-10T13:28:36.804398Z"
    }
   }
  }
 ],
 "metadata": {
  "kernelspec": {
   "display_name": "Python 3",
   "language": "python",
   "name": "python3"
  },
  "language_info": {
   "codemirror_mode": {
    "name": "ipython",
    "version": 2
   },
   "file_extension": ".py",
   "mimetype": "text/x-python",
   "name": "python",
   "nbconvert_exporter": "python",
   "pygments_lexer": "ipython2",
   "version": "2.7.6"
  }
 },
 "nbformat": 4,
 "nbformat_minor": 0
}
